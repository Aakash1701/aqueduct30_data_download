{
 "cells": [
  {
   "cell_type": "markdown",
   "metadata": {},
   "source": [
    "## Order of scripts:\n",
    "\n",
    "1. **Y2019M07D09_RH_Simplified_Geometries_V01**  \n",
    "    Simplify Master Geom\n",
    "1. **Y2019M07D11_RH_Aqueduct30_Data_Download_Annual_V01**  \n",
    "    Process and export annual data.\n",
    "1. **Y2019M07D12_RH_Aqueduct30_Data_Download_Monthly_V01**  \n",
    "    Process and export monthly data."
   ]
  },
  {
   "cell_type": "code",
   "execution_count": null,
   "metadata": {
    "collapsed": true
   },
   "outputs": [],
   "source": []
  }
 ],
 "metadata": {
  "kernelspec": {
   "display_name": "Python 35",
   "language": "python",
   "name": "python35"
  },
  "language_info": {
   "codemirror_mode": {
    "name": "ipython",
    "version": 3
   },
   "file_extension": ".py",
   "mimetype": "text/x-python",
   "name": "python",
   "nbconvert_exporter": "python",
   "pygments_lexer": "ipython3",
   "version": "3.5.4"
  }
 },
 "nbformat": 4,
 "nbformat_minor": 2
}
