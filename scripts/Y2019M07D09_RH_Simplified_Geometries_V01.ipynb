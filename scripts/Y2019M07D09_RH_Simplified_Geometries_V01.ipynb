{
 "cells": [
  {
   "cell_type": "code",
   "execution_count": 1,
   "metadata": {},
   "outputs": [
    {
     "name": "stdout",
     "output_type": "stream",
     "text": [
      "s3://wri-projects/Aqueduct30/processData/Y2019M07D09_RH_Simplified_Geometries_V01/output_V02/\n"
     ]
    }
   ],
   "source": [
    "\"\"\"\n",
    "Simplify master geometry\n",
    "\n",
    "Changed to just simplify the master geometry using the mapshaper cli.\n",
    "\n",
    "Author: Rutger Hofste\n",
    "Date: 20190709\n",
    "Kernel: python35\n",
    "Docker: rutgerhofste/gisdocker:ubuntu16.04\n",
    "\n",
    "\"\"\"\n",
    "\n",
    "SCRIPT_NAME = \"Y2019M07D09_RH_Simplified_Geometries_V01\"\n",
    "OUTPUT_VERSION = 2\n",
    "\n",
    "\n",
    "S3_INPUT_PATH = {}\n",
    "S3_INPUT_PATH[\"master_geom\"] = \"s3://wri-projects/Aqueduct30/finalData/Y2019M01D14_RH_Aqueduct_Results_V01/output_V04/master_geom\"\n",
    "\n",
    "INPUT_FILENAME = {}\n",
    "INPUT_FILENAME[\"master_geom\"] = \"master_geom.shp\"\n",
    "\n",
    "\n",
    "ec2_input_path = \"/volumes/data/{}/input_V{:02.0f}\".format(SCRIPT_NAME,OUTPUT_VERSION)\n",
    "ec2_output_path = \"/volumes/data/{}/output_V{:02.0f}\".format(SCRIPT_NAME,OUTPUT_VERSION)\n",
    "\n",
    "s3_output_path = \"s3://wri-projects/Aqueduct30/processData/{}/output_V{:02.0f}/\".format(SCRIPT_NAME,OUTPUT_VERSION)\n",
    "\n",
    "KEEP_FRACTION = {}\n",
    "KEEP_FRACTION[\"master_geom\"] = 0.5\n",
    "\n",
    "print(s3_output_path)"
   ]
  },
  {
   "cell_type": "code",
   "execution_count": 2,
   "metadata": {},
   "outputs": [
    {
     "name": "stdout",
     "output_type": "stream",
     "text": [
      "0.4.120\r\n"
     ]
    }
   ],
   "source": [
    "!mapshaper -v"
   ]
  },
  {
   "cell_type": "code",
   "execution_count": 3,
   "metadata": {},
   "outputs": [
    {
     "name": "stdout",
     "output_type": "stream",
     "text": [
      "Y2019M07D11 UTC 13:20\n"
     ]
    }
   ],
   "source": [
    "import time, datetime, sys\n",
    "dateString = time.strftime(\"Y%YM%mD%d\")\n",
    "timeString = time.strftime(\"UTC %H:%M\")\n",
    "start = datetime.datetime.now()\n",
    "print(dateString,timeString)\n",
    "sys.version\n",
    "%matplotlib inline"
   ]
  },
  {
   "cell_type": "code",
   "execution_count": 4,
   "metadata": {
    "collapsed": true
   },
   "outputs": [],
   "source": [
    "import subprocess"
   ]
  },
  {
   "cell_type": "code",
   "execution_count": 5,
   "metadata": {},
   "outputs": [],
   "source": [
    "!rm -r {ec2_input_path} \n",
    "!rm -r {ec2_output_path} \n",
    "!mkdir -p {ec2_input_path} \n",
    "!mkdir -p {ec2_output_path} "
   ]
  },
  {
   "cell_type": "code",
   "execution_count": 6,
   "metadata": {},
   "outputs": [
    {
     "name": "stdout",
     "output_type": "stream",
     "text": [
      "download: s3://wri-projects/Aqueduct30/finalData/Y2019M01D14_RH_Aqueduct_Results_V01/output_V04/master_geom/master_geom.cpg to ../../../data/Y2019M07D09_RH_Simplified_Geometries_V01/input_V02/master_geom.cpg\n",
      "download: s3://wri-projects/Aqueduct30/finalData/Y2019M01D14_RH_Aqueduct_Results_V01/output_V04/master_geom/master_geom.prj to ../../../data/Y2019M07D09_RH_Simplified_Geometries_V01/input_V02/master_geom.prj\n",
      "download: s3://wri-projects/Aqueduct30/finalData/Y2019M01D14_RH_Aqueduct_Results_V01/output_V04/master_geom/master_geom.shx to ../../../data/Y2019M07D09_RH_Simplified_Geometries_V01/input_V02/master_geom.shx\n",
      "download: s3://wri-projects/Aqueduct30/finalData/Y2019M01D14_RH_Aqueduct_Results_V01/output_V04/master_geom/master_geom.dbf to ../../../data/Y2019M07D09_RH_Simplified_Geometries_V01/input_V02/master_geom.dbf\n",
      "download: s3://wri-projects/Aqueduct30/finalData/Y2019M01D14_RH_Aqueduct_Results_V01/output_V04/master_geom/master_geom.shp to ../../../data/Y2019M07D09_RH_Simplified_Geometries_V01/input_V02/master_geom.shp\n"
     ]
    }
   ],
   "source": [
    "!aws s3 cp {S3_INPUT_PATH[\"master_geom\"]} {ec2_input_path} --recursive"
   ]
  },
  {
   "cell_type": "code",
   "execution_count": 7,
   "metadata": {
    "collapsed": true
   },
   "outputs": [],
   "source": [
    "def simplify_mapshaper(keep_fraction):\n",
    "    \"\"\"\n",
    "    Simplify geometry using mapshaper's Visvalingam algorithm.\n",
    "    \n",
    "    See https://github.com/mbloch/mapshaper\n",
    "    \n",
    "    Args:\n",
    "        keep_fraction(double): keep fraction [0.-1.]\n",
    "    \n",
    "    Returns:\n",
    "        command(string): bash command\n",
    "    \n",
    "    \"\"\"\n",
    "    \n",
    "    input_filename = INPUT_FILENAME[\"master_geom\"]\n",
    "    input_path =  \"{}/{}\".format(ec2_input_path,input_filename)\n",
    "    \n",
    "    \n",
    "    output_filename = \"mastergeom_mapshaper_visvalingam_keeppercent{:03.0f}_v01.shp\".format(keep_fraction*100)\n",
    "    output_path  = \"{}/{}\".format(ec2_output_path,output_filename)\n",
    "    \n",
    "    command = \"mapshaper -i snap {} -simplify weighted keep-shapes {} -clean -o format=shapefile {}\".format(input_path,keep_fraction,output_path)\n",
    "    return command\n",
    "    "
   ]
  },
  {
   "cell_type": "code",
   "execution_count": 8,
   "metadata": {
    "collapsed": true
   },
   "outputs": [],
   "source": [
    "keep_fractions = [0.1, 0.2, 0.3, 0.5, 0.8, 1.0]"
   ]
  },
  {
   "cell_type": "code",
   "execution_count": 9,
   "metadata": {},
   "outputs": [
    {
     "name": "stdout",
     "output_type": "stream",
     "text": [
      "mapshaper -i snap /volumes/data/Y2019M07D09_RH_Simplified_Geometries_V01/input_V02/master_geom.shp -simplify weighted keep-shapes 0.1 -clean -o format=shapefile /volumes/data/Y2019M07D09_RH_Simplified_Geometries_V01/output_V02/mastergeom_mapshaper_visvalingam_keeppercent010_v01.shp\n",
      "mapshaper -i snap /volumes/data/Y2019M07D09_RH_Simplified_Geometries_V01/input_V02/master_geom.shp -simplify weighted keep-shapes 0.2 -clean -o format=shapefile /volumes/data/Y2019M07D09_RH_Simplified_Geometries_V01/output_V02/mastergeom_mapshaper_visvalingam_keeppercent020_v01.shp\n",
      "mapshaper -i snap /volumes/data/Y2019M07D09_RH_Simplified_Geometries_V01/input_V02/master_geom.shp -simplify weighted keep-shapes 0.3 -clean -o format=shapefile /volumes/data/Y2019M07D09_RH_Simplified_Geometries_V01/output_V02/mastergeom_mapshaper_visvalingam_keeppercent030_v01.shp\n",
      "mapshaper -i snap /volumes/data/Y2019M07D09_RH_Simplified_Geometries_V01/input_V02/master_geom.shp -simplify weighted keep-shapes 0.5 -clean -o format=shapefile /volumes/data/Y2019M07D09_RH_Simplified_Geometries_V01/output_V02/mastergeom_mapshaper_visvalingam_keeppercent050_v01.shp\n",
      "mapshaper -i snap /volumes/data/Y2019M07D09_RH_Simplified_Geometries_V01/input_V02/master_geom.shp -simplify weighted keep-shapes 0.8 -clean -o format=shapefile /volumes/data/Y2019M07D09_RH_Simplified_Geometries_V01/output_V02/mastergeom_mapshaper_visvalingam_keeppercent080_v01.shp\n",
      "mapshaper -i snap /volumes/data/Y2019M07D09_RH_Simplified_Geometries_V01/input_V02/master_geom.shp -simplify weighted keep-shapes 1.0 -clean -o format=shapefile /volumes/data/Y2019M07D09_RH_Simplified_Geometries_V01/output_V02/mastergeom_mapshaper_visvalingam_keeppercent100_v01.shp\n"
     ]
    }
   ],
   "source": [
    "for keep_fraction in keep_fractions:\n",
    "    command = simplify_mapshaper(keep_fraction)\n",
    "    print(command)\n",
    "    response = subprocess.check_output(command,shell=True)"
   ]
  },
  {
   "cell_type": "code",
   "execution_count": 10,
   "metadata": {},
   "outputs": [
    {
     "name": "stdout",
     "output_type": "stream",
     "text": [
      "upload: ../../../data/Y2019M07D09_RH_Simplified_Geometries_V01/output_V02/mastergeom_mapshaper_visvalingam_keeppercent010_v01.prj to s3://wri-projects/Aqueduct30/processData/Y2019M07D09_RH_Simplified_Geometries_V01/output_V02/mastergeom_mapshaper_visvalingam_keeppercent010_v01.prj\n",
      "upload: ../../../data/Y2019M07D09_RH_Simplified_Geometries_V01/output_V02/mastergeom_mapshaper_visvalingam_keeppercent020_v01.prj to s3://wri-projects/Aqueduct30/processData/Y2019M07D09_RH_Simplified_Geometries_V01/output_V02/mastergeom_mapshaper_visvalingam_keeppercent020_v01.prj\n",
      "upload: ../../../data/Y2019M07D09_RH_Simplified_Geometries_V01/output_V02/mastergeom_mapshaper_visvalingam_keeppercent030_v01.prj to s3://wri-projects/Aqueduct30/processData/Y2019M07D09_RH_Simplified_Geometries_V01/output_V02/mastergeom_mapshaper_visvalingam_keeppercent030_v01.prj\n",
      "upload: ../../../data/Y2019M07D09_RH_Simplified_Geometries_V01/output_V02/mastergeom_mapshaper_visvalingam_keeppercent010_v01.shx to s3://wri-projects/Aqueduct30/processData/Y2019M07D09_RH_Simplified_Geometries_V01/output_V02/mastergeom_mapshaper_visvalingam_keeppercent010_v01.shx\n",
      "upload: ../../../data/Y2019M07D09_RH_Simplified_Geometries_V01/output_V02/mastergeom_mapshaper_visvalingam_keeppercent020_v01.shx to s3://wri-projects/Aqueduct30/processData/Y2019M07D09_RH_Simplified_Geometries_V01/output_V02/mastergeom_mapshaper_visvalingam_keeppercent020_v01.shx\n",
      "upload: ../../../data/Y2019M07D09_RH_Simplified_Geometries_V01/output_V02/mastergeom_mapshaper_visvalingam_keeppercent020_v01.dbf to s3://wri-projects/Aqueduct30/processData/Y2019M07D09_RH_Simplified_Geometries_V01/output_V02/mastergeom_mapshaper_visvalingam_keeppercent020_v01.dbf\n",
      "upload: ../../../data/Y2019M07D09_RH_Simplified_Geometries_V01/output_V02/mastergeom_mapshaper_visvalingam_keeppercent030_v01.dbf to s3://wri-projects/Aqueduct30/processData/Y2019M07D09_RH_Simplified_Geometries_V01/output_V02/mastergeom_mapshaper_visvalingam_keeppercent030_v01.dbf\n",
      "upload: ../../../data/Y2019M07D09_RH_Simplified_Geometries_V01/output_V02/mastergeom_mapshaper_visvalingam_keeppercent010_v01.dbf to s3://wri-projects/Aqueduct30/processData/Y2019M07D09_RH_Simplified_Geometries_V01/output_V02/mastergeom_mapshaper_visvalingam_keeppercent010_v01.dbf\n",
      "upload: ../../../data/Y2019M07D09_RH_Simplified_Geometries_V01/output_V02/mastergeom_mapshaper_visvalingam_keeppercent030_v01.shx to s3://wri-projects/Aqueduct30/processData/Y2019M07D09_RH_Simplified_Geometries_V01/output_V02/mastergeom_mapshaper_visvalingam_keeppercent030_v01.shx\n",
      "upload: ../../../data/Y2019M07D09_RH_Simplified_Geometries_V01/output_V02/mastergeom_mapshaper_visvalingam_keeppercent050_v01.dbf to s3://wri-projects/Aqueduct30/processData/Y2019M07D09_RH_Simplified_Geometries_V01/output_V02/mastergeom_mapshaper_visvalingam_keeppercent050_v01.dbf\n",
      "upload: ../../../data/Y2019M07D09_RH_Simplified_Geometries_V01/output_V02/mastergeom_mapshaper_visvalingam_keeppercent050_v01.prj to s3://wri-projects/Aqueduct30/processData/Y2019M07D09_RH_Simplified_Geometries_V01/output_V02/mastergeom_mapshaper_visvalingam_keeppercent050_v01.prj\n",
      "upload: ../../../data/Y2019M07D09_RH_Simplified_Geometries_V01/output_V02/mastergeom_mapshaper_visvalingam_keeppercent050_v01.shx to s3://wri-projects/Aqueduct30/processData/Y2019M07D09_RH_Simplified_Geometries_V01/output_V02/mastergeom_mapshaper_visvalingam_keeppercent050_v01.shx\n",
      "upload: ../../../data/Y2019M07D09_RH_Simplified_Geometries_V01/output_V02/mastergeom_mapshaper_visvalingam_keeppercent080_v01.dbf to s3://wri-projects/Aqueduct30/processData/Y2019M07D09_RH_Simplified_Geometries_V01/output_V02/mastergeom_mapshaper_visvalingam_keeppercent080_v01.dbf\n",
      "upload: ../../../data/Y2019M07D09_RH_Simplified_Geometries_V01/output_V02/mastergeom_mapshaper_visvalingam_keeppercent080_v01.prj to s3://wri-projects/Aqueduct30/processData/Y2019M07D09_RH_Simplified_Geometries_V01/output_V02/mastergeom_mapshaper_visvalingam_keeppercent080_v01.prj\n",
      "upload: ../../../data/Y2019M07D09_RH_Simplified_Geometries_V01/output_V02/mastergeom_mapshaper_visvalingam_keeppercent080_v01.shx to s3://wri-projects/Aqueduct30/processData/Y2019M07D09_RH_Simplified_Geometries_V01/output_V02/mastergeom_mapshaper_visvalingam_keeppercent080_v01.shx\n",
      "upload: ../../../data/Y2019M07D09_RH_Simplified_Geometries_V01/output_V02/mastergeom_mapshaper_visvalingam_keeppercent010_v01.shp to s3://wri-projects/Aqueduct30/processData/Y2019M07D09_RH_Simplified_Geometries_V01/output_V02/mastergeom_mapshaper_visvalingam_keeppercent010_v01.shp\n",
      "upload: ../../../data/Y2019M07D09_RH_Simplified_Geometries_V01/output_V02/mastergeom_mapshaper_visvalingam_keeppercent100_v01.dbf to s3://wri-projects/Aqueduct30/processData/Y2019M07D09_RH_Simplified_Geometries_V01/output_V02/mastergeom_mapshaper_visvalingam_keeppercent100_v01.dbf\n",
      "upload: ../../../data/Y2019M07D09_RH_Simplified_Geometries_V01/output_V02/mastergeom_mapshaper_visvalingam_keeppercent100_v01.prj to s3://wri-projects/Aqueduct30/processData/Y2019M07D09_RH_Simplified_Geometries_V01/output_V02/mastergeom_mapshaper_visvalingam_keeppercent100_v01.prj\n",
      "upload: ../../../data/Y2019M07D09_RH_Simplified_Geometries_V01/output_V02/mastergeom_mapshaper_visvalingam_keeppercent020_v01.shp to s3://wri-projects/Aqueduct30/processData/Y2019M07D09_RH_Simplified_Geometries_V01/output_V02/mastergeom_mapshaper_visvalingam_keeppercent020_v01.shp\n",
      "upload: ../../../data/Y2019M07D09_RH_Simplified_Geometries_V01/output_V02/mastergeom_mapshaper_visvalingam_keeppercent100_v01.shx to s3://wri-projects/Aqueduct30/processData/Y2019M07D09_RH_Simplified_Geometries_V01/output_V02/mastergeom_mapshaper_visvalingam_keeppercent100_v01.shx\n",
      "upload: ../../../data/Y2019M07D09_RH_Simplified_Geometries_V01/output_V02/mastergeom_mapshaper_visvalingam_keeppercent030_v01.shp to s3://wri-projects/Aqueduct30/processData/Y2019M07D09_RH_Simplified_Geometries_V01/output_V02/mastergeom_mapshaper_visvalingam_keeppercent030_v01.shp\n",
      "upload: ../../../data/Y2019M07D09_RH_Simplified_Geometries_V01/output_V02/mastergeom_mapshaper_visvalingam_keeppercent050_v01.shp to s3://wri-projects/Aqueduct30/processData/Y2019M07D09_RH_Simplified_Geometries_V01/output_V02/mastergeom_mapshaper_visvalingam_keeppercent050_v01.shp\n",
      "upload: ../../../data/Y2019M07D09_RH_Simplified_Geometries_V01/output_V02/mastergeom_mapshaper_visvalingam_keeppercent080_v01.shp to s3://wri-projects/Aqueduct30/processData/Y2019M07D09_RH_Simplified_Geometries_V01/output_V02/mastergeom_mapshaper_visvalingam_keeppercent080_v01.shp\n",
      "upload: ../../../data/Y2019M07D09_RH_Simplified_Geometries_V01/output_V02/mastergeom_mapshaper_visvalingam_keeppercent100_v01.shp to s3://wri-projects/Aqueduct30/processData/Y2019M07D09_RH_Simplified_Geometries_V01/output_V02/mastergeom_mapshaper_visvalingam_keeppercent100_v01.shp\n"
     ]
    }
   ],
   "source": [
    "!aws s3 cp {ec2_output_path} {s3_output_path} --recursive"
   ]
  },
  {
   "cell_type": "code",
   "execution_count": 11,
   "metadata": {
    "scrolled": true
   },
   "outputs": [
    {
     "name": "stdout",
     "output_type": "stream",
     "text": [
      "0:06:58.913952\n"
     ]
    }
   ],
   "source": [
    "end = datetime.datetime.now()\n",
    "elapsed = end - start\n",
    "print(elapsed)"
   ]
  },
  {
   "cell_type": "markdown",
   "metadata": {},
   "source": [
    "Previous runs:  \n",
    "0:07:14.833033\n"
   ]
  },
  {
   "cell_type": "code",
   "execution_count": null,
   "metadata": {
    "collapsed": true
   },
   "outputs": [],
   "source": []
  }
 ],
 "metadata": {
  "kernelspec": {
   "display_name": "Python 35",
   "language": "python",
   "name": "python35"
  },
  "language_info": {
   "codemirror_mode": {
    "name": "ipython",
    "version": 3
   },
   "file_extension": ".py",
   "mimetype": "text/x-python",
   "name": "python",
   "nbconvert_exporter": "python",
   "pygments_lexer": "ipython3",
   "version": "3.5.4"
  }
 },
 "nbformat": 4,
 "nbformat_minor": 2
}
