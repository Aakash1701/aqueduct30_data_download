{
 "cells": [
  {
   "cell_type": "code",
   "execution_count": 1,
   "metadata": {},
   "outputs": [
    {
     "name": "stdout",
     "output_type": "stream",
     "text": [
      "s3://wri-projects/Aqueduct30/processData/Y2019M07D11_RH_Aqueduct30_Data_Download_Annual_V01/output_V03/\n"
     ]
    }
   ],
   "source": [
    "\"\"\"\n",
    "Process and export annual data.\n",
    "\n",
    "When users want to download the entire dataset, this is what they will get. \n",
    "\n",
    "Author: Rutger Hofste\n",
    "Date: 20190711\n",
    "Kernel: python35\n",
    "Docker: rutgerhofste/gisdocker:ubuntu16.04\n",
    "\n",
    "\"\"\"\n",
    "\n",
    "TESTING = 0\n",
    "\n",
    "SCRIPT_NAME = \"Y2019M07D11_RH_Aqueduct30_Data_Download_Annual_V01\"\n",
    "OUTPUT_VERSION = 3\n",
    "\n",
    "S3_INPUT_PATH = {}\n",
    "S3_INPUT_PATH[\"master_geom_simplified\"] = \"s3://wri-projects/Aqueduct30/processData/Y2019M07D09_RH_Simplified_Geometries_V01/output_V02\"\n",
    "S3_INPUT_PATH[\"annual\"] = \"s3://wri-projects/Aqueduct30/finalData/Y2019M01D14_RH_Aqueduct_Results_V01/output_V04/annual\"\n",
    "\n",
    "# We simplified the master_geom using verious keep_percentages. \n",
    "KEEP_PERCENT = 30\n",
    "\n",
    "INPUT_FILENAME = {}\n",
    "INPUT_FILENAME[\"master_geom_simplified\"] = \"mastergeom_mapshaper_visvalingam_keeppercent{:03.0f}_v01.shp\".format(KEEP_PERCENT)\n",
    "INPUT_FILENAME[\"annual\"] = \"annual_pivot.pkl\"\n",
    "\n",
    "ec2_input_path = \"/volumes/data/{}/input_V{:02.0f}\".format(SCRIPT_NAME,OUTPUT_VERSION)\n",
    "ec2_output_path = \"/volumes/data/{}/output_V{:02.0f}\".format(SCRIPT_NAME,OUTPUT_VERSION)\n",
    "\n",
    "s3_output_path = \"s3://wri-projects/Aqueduct30/processData/{}/output_V{:02.0f}/\".format(SCRIPT_NAME,OUTPUT_VERSION)\n",
    "\n",
    "print(s3_output_path)"
   ]
  },
  {
   "cell_type": "code",
   "execution_count": 2,
   "metadata": {},
   "outputs": [
    {
     "name": "stdout",
     "output_type": "stream",
     "text": [
      "Y2019M07D23 UTC 12:07\n"
     ]
    }
   ],
   "source": [
    "import time, datetime, sys\n",
    "dateString = time.strftime(\"Y%YM%mD%d\")\n",
    "timeString = time.strftime(\"UTC %H:%M\")\n",
    "start = datetime.datetime.now()\n",
    "print(dateString,timeString)\n",
    "sys.version\n",
    "%matplotlib inline"
   ]
  },
  {
   "cell_type": "code",
   "execution_count": 3,
   "metadata": {},
   "outputs": [],
   "source": [
    "!rm -r {ec2_input_path} \n",
    "!rm -r {ec2_output_path} \n",
    "!mkdir -p {ec2_input_path} \n",
    "!mkdir -p {ec2_output_path} "
   ]
  },
  {
   "cell_type": "code",
   "execution_count": 4,
   "metadata": {
    "collapsed": true
   },
   "outputs": [],
   "source": [
    "!aws s3 cp {S3_INPUT_PATH[\"master_geom_simplified\"]} {ec2_input_path} --recursive --quiet"
   ]
  },
  {
   "cell_type": "code",
   "execution_count": 5,
   "metadata": {},
   "outputs": [
    {
     "name": "stdout",
     "output_type": "stream",
     "text": [
      "download: s3://wri-projects/Aqueduct30/finalData/Y2019M01D14_RH_Aqueduct_Results_V01/output_V04/annual/annual_pivot.pkl to ../../../data/Y2019M07D11_RH_Aqueduct30_Data_Download_Annual_V01/input_V03/annual_pivot.pkl\n",
      "download: s3://wri-projects/Aqueduct30/finalData/Y2019M01D14_RH_Aqueduct_Results_V01/output_V04/annual/annual_pivot.csv to ../../../data/Y2019M07D11_RH_Aqueduct30_Data_Download_Annual_V01/input_V03/annual_pivot.csv\n",
      "download: s3://wri-projects/Aqueduct30/finalData/Y2019M01D14_RH_Aqueduct_Results_V01/output_V04/annual/annual_normalized.pkl to ../../../data/Y2019M07D11_RH_Aqueduct30_Data_Download_Annual_V01/input_V03/annual_normalized.pkl\n",
      "download: s3://wri-projects/Aqueduct30/finalData/Y2019M01D14_RH_Aqueduct_Results_V01/output_V04/annual/annual_normalized.csv to ../../../data/Y2019M07D11_RH_Aqueduct30_Data_Download_Annual_V01/input_V03/annual_normalized.csv\n"
     ]
    }
   ],
   "source": [
    "!aws s3 cp {S3_INPUT_PATH[\"annual\"]} {ec2_input_path} --recursive"
   ]
  },
  {
   "cell_type": "code",
   "execution_count": 6,
   "metadata": {
    "collapsed": true
   },
   "outputs": [],
   "source": [
    "import pandas as pd\n",
    "import geopandas as gpd\n",
    "from tqdm import tqdm\n",
    "\n",
    "from shapely.geometry import MultiPolygon, shape\n"
   ]
  },
  {
   "cell_type": "code",
   "execution_count": 7,
   "metadata": {
    "collapsed": true
   },
   "outputs": [],
   "source": [
    "input_path_master_geom_simplified = \"{}/{}\".format(ec2_input_path,INPUT_FILENAME[\"master_geom_simplified\"])"
   ]
  },
  {
   "cell_type": "code",
   "execution_count": 8,
   "metadata": {
    "collapsed": true
   },
   "outputs": [],
   "source": [
    "gdf_in = gpd.read_file(filename=input_path_master_geom_simplified)"
   ]
  },
  {
   "cell_type": "code",
   "execution_count": 9,
   "metadata": {},
   "outputs": [
    {
     "data": {
      "text/html": [
       "<div>\n",
       "<style scoped>\n",
       "    .dataframe tbody tr th:only-of-type {\n",
       "        vertical-align: middle;\n",
       "    }\n",
       "\n",
       "    .dataframe tbody tr th {\n",
       "        vertical-align: top;\n",
       "    }\n",
       "\n",
       "    .dataframe thead th {\n",
       "        text-align: right;\n",
       "    }\n",
       "</style>\n",
       "<table border=\"1\" class=\"dataframe\">\n",
       "  <thead>\n",
       "    <tr style=\"text-align: right;\">\n",
       "      <th></th>\n",
       "      <th>aq30_id</th>\n",
       "      <th>string_id</th>\n",
       "      <th>pfaf_id</th>\n",
       "      <th>gid_1</th>\n",
       "      <th>aqid</th>\n",
       "      <th>geometry</th>\n",
       "    </tr>\n",
       "  </thead>\n",
       "  <tbody>\n",
       "    <tr>\n",
       "      <th>0</th>\n",
       "      <td>0</td>\n",
       "      <td>111011-EGY.11_1-3365</td>\n",
       "      <td>111011</td>\n",
       "      <td>EGY.11_1</td>\n",
       "      <td>3365</td>\n",
       "      <td>POLYGON ((31.90590570688292 29.85788703615783,...</td>\n",
       "    </tr>\n",
       "    <tr>\n",
       "      <th>1</th>\n",
       "      <td>3</td>\n",
       "      <td>111011-None-3365</td>\n",
       "      <td>111011</td>\n",
       "      <td>-9999</td>\n",
       "      <td>3365</td>\n",
       "      <td>(POLYGON ((32.46194054146073 29.89250514754305...</td>\n",
       "    </tr>\n",
       "    <tr>\n",
       "      <th>2</th>\n",
       "      <td>5</td>\n",
       "      <td>111012-EGY.11_1-3365</td>\n",
       "      <td>111012</td>\n",
       "      <td>EGY.11_1</td>\n",
       "      <td>3365</td>\n",
       "      <td>POLYGON ((31.88750000022489 29.85833333371637,...</td>\n",
       "    </tr>\n",
       "    <tr>\n",
       "      <th>3</th>\n",
       "      <td>7</td>\n",
       "      <td>111012-EGY.15_1-None</td>\n",
       "      <td>111012</td>\n",
       "      <td>EGY.15_1</td>\n",
       "      <td>-9999</td>\n",
       "      <td>POLYGON ((32.36609158210641 29.63378296420298,...</td>\n",
       "    </tr>\n",
       "    <tr>\n",
       "      <th>4</th>\n",
       "      <td>8</td>\n",
       "      <td>111012-EGY.8_1-3365</td>\n",
       "      <td>111012</td>\n",
       "      <td>EGY.8_1</td>\n",
       "      <td>3365</td>\n",
       "      <td>POLYGON ((31.74570583035987 29.75178815260121,...</td>\n",
       "    </tr>\n",
       "  </tbody>\n",
       "</table>\n",
       "</div>"
      ],
      "text/plain": [
       "   aq30_id             string_id  pfaf_id     gid_1  aqid  \\\n",
       "0        0  111011-EGY.11_1-3365   111011  EGY.11_1  3365   \n",
       "1        3      111011-None-3365   111011     -9999  3365   \n",
       "2        5  111012-EGY.11_1-3365   111012  EGY.11_1  3365   \n",
       "3        7  111012-EGY.15_1-None   111012  EGY.15_1 -9999   \n",
       "4        8   111012-EGY.8_1-3365   111012   EGY.8_1  3365   \n",
       "\n",
       "                                            geometry  \n",
       "0  POLYGON ((31.90590570688292 29.85788703615783,...  \n",
       "1  (POLYGON ((32.46194054146073 29.89250514754305...  \n",
       "2  POLYGON ((31.88750000022489 29.85833333371637,...  \n",
       "3  POLYGON ((32.36609158210641 29.63378296420298,...  \n",
       "4  POLYGON ((31.74570583035987 29.75178815260121,...  "
      ]
     },
     "execution_count": 9,
     "metadata": {},
     "output_type": "execute_result"
    }
   ],
   "source": [
    "gdf_in.head()"
   ]
  },
  {
   "cell_type": "code",
   "execution_count": 10,
   "metadata": {},
   "outputs": [
    {
     "data": {
      "text/plain": [
       "(68506, 6)"
      ]
     },
     "execution_count": 10,
     "metadata": {},
     "output_type": "execute_result"
    }
   ],
   "source": [
    "gdf_in.shape"
   ]
  },
  {
   "cell_type": "code",
   "execution_count": 11,
   "metadata": {
    "collapsed": true
   },
   "outputs": [],
   "source": [
    "def convert_row_to_multipolygon(row):\n",
    "    if row.type == \"Polygon\":\n",
    "        new_geom = MultiPolygon([row.geometry])\n",
    "    elif row.type == \"MultiPolygon\":\n",
    "        new_geom = row.geometry\n",
    "    else:\n",
    "        new_geom = -9999\n",
    "    return new_geom\n",
    "    \n",
    "def df_force_multipolygon(gdf):\n",
    "    \"\"\"\n",
    "    Force all geometries in a geodataframe to be \n",
    "    MultiPolygons. The GeoPackage format does not allow\n",
    "    mixing of polygons and multipolygons.   \n",
    "    \n",
    "    Args:\n",
    "        gdf(GeoDataFrame) : GeoDataFrame\n",
    "    Returns:\n",
    "        gdf_mp(GeoDataFrame): GeodataFrame with multipolygons\n",
    "    \n",
    "    \"\"\"\n",
    "    gdf_temp = gdf.copy()\n",
    "    gdf_temp[\"type\"] = gdf_temp[\"geometry\"].geom_type\n",
    "    gdf[\"geometry\"] = gdf_temp.apply(axis=1,func=convert_row_to_multipolygon)\n",
    "    return gdf\n",
    "    "
   ]
  },
  {
   "cell_type": "code",
   "execution_count": 12,
   "metadata": {
    "collapsed": true
   },
   "outputs": [],
   "source": [
    "gdf = df_force_multipolygon(gdf_in)"
   ]
  },
  {
   "cell_type": "code",
   "execution_count": 13,
   "metadata": {
    "collapsed": true
   },
   "outputs": [],
   "source": [
    "# Change column order. See https://github.com/wri/aqueduct_analyze_locations/blob/master/data_download/instructions.md#annual-baseline\n",
    "gdf = gdf[[\"string_id\",\"aq30_id\",\"pfaf_id\",\"gid_1\",\"aqid\",\"geometry\"]]"
   ]
  },
  {
   "cell_type": "markdown",
   "metadata": {},
   "source": [
    "## Annual"
   ]
  },
  {
   "cell_type": "code",
   "execution_count": 14,
   "metadata": {
    "collapsed": true
   },
   "outputs": [],
   "source": [
    "input_path_annual = \"{}/{}\".format(ec2_input_path,INPUT_FILENAME[\"annual\"])"
   ]
  },
  {
   "cell_type": "code",
   "execution_count": 15,
   "metadata": {
    "collapsed": true
   },
   "outputs": [],
   "source": [
    "df_annual = pd.read_pickle(path=input_path_annual)"
   ]
  },
  {
   "cell_type": "code",
   "execution_count": 16,
   "metadata": {},
   "outputs": [
    {
     "data": {
      "text/html": [
       "<div>\n",
       "<style scoped>\n",
       "    .dataframe tbody tr th:only-of-type {\n",
       "        vertical-align: middle;\n",
       "    }\n",
       "\n",
       "    .dataframe tbody tr th {\n",
       "        vertical-align: top;\n",
       "    }\n",
       "\n",
       "    .dataframe thead th {\n",
       "        text-align: right;\n",
       "    }\n",
       "</style>\n",
       "<table border=\"1\" class=\"dataframe\">\n",
       "  <thead>\n",
       "    <tr style=\"text-align: right;\">\n",
       "      <th></th>\n",
       "      <th>aq30_id</th>\n",
       "      <th>aqid</th>\n",
       "      <th>area_km2</th>\n",
       "      <th>bwd_cat</th>\n",
       "      <th>bwd_label</th>\n",
       "      <th>bwd_raw</th>\n",
       "      <th>bwd_score</th>\n",
       "      <th>bws_cat</th>\n",
       "      <th>bws_label</th>\n",
       "      <th>bws_raw</th>\n",
       "      <th>...</th>\n",
       "      <th>w_awr_tex_rrr_cat</th>\n",
       "      <th>w_awr_tex_rrr_label</th>\n",
       "      <th>w_awr_tex_rrr_raw</th>\n",
       "      <th>w_awr_tex_rrr_score</th>\n",
       "      <th>w_awr_tex_rrr_weight_fraction</th>\n",
       "      <th>w_awr_tex_tot_cat</th>\n",
       "      <th>w_awr_tex_tot_label</th>\n",
       "      <th>w_awr_tex_tot_raw</th>\n",
       "      <th>w_awr_tex_tot_score</th>\n",
       "      <th>w_awr_tex_tot_weight_fraction</th>\n",
       "    </tr>\n",
       "  </thead>\n",
       "  <tbody>\n",
       "    <tr>\n",
       "      <th>0</th>\n",
       "      <td>68095</td>\n",
       "      <td>-9999</td>\n",
       "      <td>0.021614</td>\n",
       "      <td>NaN</td>\n",
       "      <td>None</td>\n",
       "      <td>NaN</td>\n",
       "      <td>NaN</td>\n",
       "      <td>NaN</td>\n",
       "      <td>None</td>\n",
       "      <td>NaN</td>\n",
       "      <td>...</td>\n",
       "      <td>4.0</td>\n",
       "      <td>Extremely High (4-5)</td>\n",
       "      <td>4.16</td>\n",
       "      <td>4.215654</td>\n",
       "      <td>0.163265</td>\n",
       "      <td>4.0</td>\n",
       "      <td>Extremely High (4-5)</td>\n",
       "      <td>4.580000</td>\n",
       "      <td>4.819062</td>\n",
       "      <td>0.326531</td>\n",
       "    </tr>\n",
       "    <tr>\n",
       "      <th>1</th>\n",
       "      <td>68245</td>\n",
       "      <td>-9999</td>\n",
       "      <td>0.018349</td>\n",
       "      <td>NaN</td>\n",
       "      <td>None</td>\n",
       "      <td>NaN</td>\n",
       "      <td>NaN</td>\n",
       "      <td>NaN</td>\n",
       "      <td>None</td>\n",
       "      <td>NaN</td>\n",
       "      <td>...</td>\n",
       "      <td>2.0</td>\n",
       "      <td>Medium - High (2-3)</td>\n",
       "      <td>2.50</td>\n",
       "      <td>2.779638</td>\n",
       "      <td>0.163265</td>\n",
       "      <td>4.0</td>\n",
       "      <td>Extremely High (4-5)</td>\n",
       "      <td>2.869318</td>\n",
       "      <td>4.082090</td>\n",
       "      <td>0.326531</td>\n",
       "    </tr>\n",
       "    <tr>\n",
       "      <th>2</th>\n",
       "      <td>68422</td>\n",
       "      <td>-9999</td>\n",
       "      <td>0.006812</td>\n",
       "      <td>NaN</td>\n",
       "      <td>None</td>\n",
       "      <td>NaN</td>\n",
       "      <td>NaN</td>\n",
       "      <td>NaN</td>\n",
       "      <td>None</td>\n",
       "      <td>NaN</td>\n",
       "      <td>...</td>\n",
       "      <td>1.0</td>\n",
       "      <td>Low - Medium (1-2)</td>\n",
       "      <td>1.20</td>\n",
       "      <td>1.828221</td>\n",
       "      <td>0.163265</td>\n",
       "      <td>2.0</td>\n",
       "      <td>Medium - High (2-3)</td>\n",
       "      <td>1.858333</td>\n",
       "      <td>2.502638</td>\n",
       "      <td>0.326531</td>\n",
       "    </tr>\n",
       "    <tr>\n",
       "      <th>3</th>\n",
       "      <td>68408</td>\n",
       "      <td>-9999</td>\n",
       "      <td>0.033232</td>\n",
       "      <td>NaN</td>\n",
       "      <td>None</td>\n",
       "      <td>NaN</td>\n",
       "      <td>NaN</td>\n",
       "      <td>NaN</td>\n",
       "      <td>None</td>\n",
       "      <td>NaN</td>\n",
       "      <td>...</td>\n",
       "      <td>2.0</td>\n",
       "      <td>Medium - High (2-3)</td>\n",
       "      <td>1.64</td>\n",
       "      <td>2.177403</td>\n",
       "      <td>0.163265</td>\n",
       "      <td>2.0</td>\n",
       "      <td>Medium - High (2-3)</td>\n",
       "      <td>1.718333</td>\n",
       "      <td>2.218954</td>\n",
       "      <td>0.326531</td>\n",
       "    </tr>\n",
       "    <tr>\n",
       "      <th>4</th>\n",
       "      <td>68110</td>\n",
       "      <td>-9999</td>\n",
       "      <td>14.558037</td>\n",
       "      <td>NaN</td>\n",
       "      <td>None</td>\n",
       "      <td>NaN</td>\n",
       "      <td>NaN</td>\n",
       "      <td>NaN</td>\n",
       "      <td>None</td>\n",
       "      <td>NaN</td>\n",
       "      <td>...</td>\n",
       "      <td>NaN</td>\n",
       "      <td>NoData</td>\n",
       "      <td>NaN</td>\n",
       "      <td>NaN</td>\n",
       "      <td>0.000000</td>\n",
       "      <td>NaN</td>\n",
       "      <td>NoData</td>\n",
       "      <td>NaN</td>\n",
       "      <td>NaN</td>\n",
       "      <td>0.000000</td>\n",
       "    </tr>\n",
       "  </tbody>\n",
       "</table>\n",
       "<p>5 rows × 267 columns</p>\n",
       "</div>"
      ],
      "text/plain": [
       "   aq30_id  aqid   area_km2  bwd_cat bwd_label  bwd_raw  bwd_score  bws_cat  \\\n",
       "0    68095 -9999   0.021614      NaN      None      NaN        NaN      NaN   \n",
       "1    68245 -9999   0.018349      NaN      None      NaN        NaN      NaN   \n",
       "2    68422 -9999   0.006812      NaN      None      NaN        NaN      NaN   \n",
       "3    68408 -9999   0.033232      NaN      None      NaN        NaN      NaN   \n",
       "4    68110 -9999  14.558037      NaN      None      NaN        NaN      NaN   \n",
       "\n",
       "  bws_label  bws_raw              ...                w_awr_tex_rrr_cat  \\\n",
       "0      None      NaN              ...                              4.0   \n",
       "1      None      NaN              ...                              2.0   \n",
       "2      None      NaN              ...                              1.0   \n",
       "3      None      NaN              ...                              2.0   \n",
       "4      None      NaN              ...                              NaN   \n",
       "\n",
       "    w_awr_tex_rrr_label  w_awr_tex_rrr_raw w_awr_tex_rrr_score  \\\n",
       "0  Extremely High (4-5)               4.16            4.215654   \n",
       "1   Medium - High (2-3)               2.50            2.779638   \n",
       "2    Low - Medium (1-2)               1.20            1.828221   \n",
       "3   Medium - High (2-3)               1.64            2.177403   \n",
       "4                NoData                NaN                 NaN   \n",
       "\n",
       "   w_awr_tex_rrr_weight_fraction  w_awr_tex_tot_cat   w_awr_tex_tot_label  \\\n",
       "0                       0.163265                4.0  Extremely High (4-5)   \n",
       "1                       0.163265                4.0  Extremely High (4-5)   \n",
       "2                       0.163265                2.0   Medium - High (2-3)   \n",
       "3                       0.163265                2.0   Medium - High (2-3)   \n",
       "4                       0.000000                NaN                NoData   \n",
       "\n",
       "  w_awr_tex_tot_raw  w_awr_tex_tot_score  w_awr_tex_tot_weight_fraction  \n",
       "0          4.580000             4.819062                       0.326531  \n",
       "1          2.869318             4.082090                       0.326531  \n",
       "2          1.858333             2.502638                       0.326531  \n",
       "3          1.718333             2.218954                       0.326531  \n",
       "4               NaN                  NaN                       0.000000  \n",
       "\n",
       "[5 rows x 267 columns]"
      ]
     },
     "execution_count": 16,
     "metadata": {},
     "output_type": "execute_result"
    }
   ],
   "source": [
    "df_annual.head()"
   ]
  },
  {
   "cell_type": "code",
   "execution_count": 17,
   "metadata": {},
   "outputs": [
    {
     "data": {
      "text/plain": [
       "(68511, 267)"
      ]
     },
     "execution_count": 17,
     "metadata": {},
     "output_type": "execute_result"
    }
   ],
   "source": [
    "df_annual.shape"
   ]
  },
  {
   "cell_type": "code",
   "execution_count": 18,
   "metadata": {
    "collapsed": true
   },
   "outputs": [],
   "source": [
    "def annual_column_order():\n",
    "    \"\"\"\n",
    "    Create a list of the preferred column order. \n",
    "    \n",
    "    See https://github.com/wri/aqueduct_analyze_locations/blob/master/data_download/instructions.md#annual-baseline\n",
    "    \n",
    "    Args:\n",
    "        none\n",
    "    Returns:\n",
    "        columns(list): List of strings with column names\n",
    "    \n",
    "    \"\"\"\n",
    "    # Indicator Columns\n",
    "    indicators =   [\"bws\",\n",
    "                    \"bwd\",\n",
    "                    \"iav\",\n",
    "                    \"sev\",\n",
    "                    \"gtd\",\n",
    "                    \"rfr\",\n",
    "                    \"cfr\",\n",
    "                    \"drr\",\n",
    "                    \"ucw\",\n",
    "                    \"cep\",\n",
    "                    \"udw\",\n",
    "                    \"usa\",\n",
    "                    \"rri\"]\n",
    "    types = [\"raw\",\"score\",\"cat\",\"label\"]\n",
    "    \n",
    "    indicator_columns =[]\n",
    "    for indicator in indicators:\n",
    "        for one_type in types:\n",
    "            column = \"{}_{}\".format(indicator,one_type)\n",
    "            indicator_columns.append(column)\n",
    "            \n",
    "    # Grouped Water Risk Columns        \n",
    "    industries =   [\"def\",\n",
    "                    \"agr\",\n",
    "                    \"che\",\n",
    "                    \"con\",\n",
    "                    \"elp\",\n",
    "                    \"fnb\",\n",
    "                    \"min\",\n",
    "                    \"ong\",\n",
    "                    \"smc\",\n",
    "                    \"tex\"]\n",
    "    \n",
    "    groups = [\"qan\",\n",
    "              \"qal\",\n",
    "              \"rrr\",\n",
    "              \"tot\"]\n",
    "        \n",
    "    types_awr = [\"raw\",\"score\",\"cat\",\"label\",\"weight_fraction\"]\n",
    "    grouped_water_risk_columns = []\n",
    "    for industry in industries:\n",
    "        for group in groups:\n",
    "            for one_type_awr in types_awr:\n",
    "                column = \"w_awr_{}_{}_{}\".format(industry,group,one_type_awr)\n",
    "                grouped_water_risk_columns.append(column)\n",
    "    \n",
    "    columns = indicator_columns + grouped_water_risk_columns\n",
    "    \n",
    "    return columns"
   ]
  },
  {
   "cell_type": "code",
   "execution_count": 19,
   "metadata": {
    "collapsed": true
   },
   "outputs": [],
   "source": [
    "result_column_names = annual_column_order()"
   ]
  },
  {
   "cell_type": "code",
   "execution_count": 20,
   "metadata": {
    "collapsed": true
   },
   "outputs": [],
   "source": [
    "extra_column_names = [\"string_id\",\"gid_0\",\"name_0\",\"name_1\",\"area_km2\"]"
   ]
  },
  {
   "cell_type": "code",
   "execution_count": 21,
   "metadata": {
    "collapsed": true
   },
   "outputs": [],
   "source": [
    "annual_column_names = extra_column_names + result_column_names"
   ]
  },
  {
   "cell_type": "code",
   "execution_count": 22,
   "metadata": {
    "collapsed": true
   },
   "outputs": [],
   "source": [
    "df_annual = df_annual[annual_column_names]"
   ]
  },
  {
   "cell_type": "code",
   "execution_count": 23,
   "metadata": {
    "collapsed": true
   },
   "outputs": [],
   "source": [
    "# Added on 2019 07 23\n",
    "df_annual.drop(columns=[\"rri_raw\"],inplace=True)\n",
    "\n"
   ]
  },
  {
   "cell_type": "code",
   "execution_count": 24,
   "metadata": {
    "collapsed": true
   },
   "outputs": [],
   "source": [
    "gdf_annual = gdf.merge(df_annual,on=\"string_id\",how=\"left\")"
   ]
  },
  {
   "cell_type": "code",
   "execution_count": 25,
   "metadata": {},
   "outputs": [
    {
     "data": {
      "text/plain": [
       "(68506, 261)"
      ]
     },
     "execution_count": 25,
     "metadata": {},
     "output_type": "execute_result"
    }
   ],
   "source": [
    "gdf_annual.shape"
   ]
  },
  {
   "cell_type": "code",
   "execution_count": 26,
   "metadata": {},
   "outputs": [
    {
     "data": {
      "text/html": [
       "<div>\n",
       "<style scoped>\n",
       "    .dataframe tbody tr th:only-of-type {\n",
       "        vertical-align: middle;\n",
       "    }\n",
       "\n",
       "    .dataframe tbody tr th {\n",
       "        vertical-align: top;\n",
       "    }\n",
       "\n",
       "    .dataframe thead th {\n",
       "        text-align: right;\n",
       "    }\n",
       "</style>\n",
       "<table border=\"1\" class=\"dataframe\">\n",
       "  <thead>\n",
       "    <tr style=\"text-align: right;\">\n",
       "      <th></th>\n",
       "      <th>string_id</th>\n",
       "      <th>aq30_id</th>\n",
       "      <th>pfaf_id</th>\n",
       "      <th>gid_1</th>\n",
       "      <th>aqid</th>\n",
       "      <th>geometry</th>\n",
       "      <th>gid_0</th>\n",
       "      <th>name_0</th>\n",
       "      <th>name_1</th>\n",
       "      <th>area_km2</th>\n",
       "      <th>...</th>\n",
       "      <th>w_awr_tex_rrr_raw</th>\n",
       "      <th>w_awr_tex_rrr_score</th>\n",
       "      <th>w_awr_tex_rrr_cat</th>\n",
       "      <th>w_awr_tex_rrr_label</th>\n",
       "      <th>w_awr_tex_rrr_weight_fraction</th>\n",
       "      <th>w_awr_tex_tot_raw</th>\n",
       "      <th>w_awr_tex_tot_score</th>\n",
       "      <th>w_awr_tex_tot_cat</th>\n",
       "      <th>w_awr_tex_tot_label</th>\n",
       "      <th>w_awr_tex_tot_weight_fraction</th>\n",
       "    </tr>\n",
       "  </thead>\n",
       "  <tbody>\n",
       "    <tr>\n",
       "      <th>0</th>\n",
       "      <td>111011-EGY.11_1-3365</td>\n",
       "      <td>0</td>\n",
       "      <td>111011</td>\n",
       "      <td>EGY.11_1</td>\n",
       "      <td>3365</td>\n",
       "      <td>(POLYGON ((31.90590570688292 29.85788703615783...</td>\n",
       "      <td>EGY</td>\n",
       "      <td>Egypt</td>\n",
       "      <td>Al Qahirah</td>\n",
       "      <td>4.223754</td>\n",
       "      <td>...</td>\n",
       "      <td>1.622678</td>\n",
       "      <td>2.165272</td>\n",
       "      <td>2.0</td>\n",
       "      <td>Medium - High (2-3)</td>\n",
       "      <td>0.326531</td>\n",
       "      <td>2.457171</td>\n",
       "      <td>3.614603</td>\n",
       "      <td>3.0</td>\n",
       "      <td>High (3-4)</td>\n",
       "      <td>0.877551</td>\n",
       "    </tr>\n",
       "    <tr>\n",
       "      <th>1</th>\n",
       "      <td>111011-None-3365</td>\n",
       "      <td>3</td>\n",
       "      <td>111011</td>\n",
       "      <td>-9999</td>\n",
       "      <td>3365</td>\n",
       "      <td>(POLYGON ((32.46194054146073 29.89250514754305...</td>\n",
       "      <td>None</td>\n",
       "      <td>None</td>\n",
       "      <td>None</td>\n",
       "      <td>0.742712</td>\n",
       "      <td>...</td>\n",
       "      <td>0.445356</td>\n",
       "      <td>1.133763</td>\n",
       "      <td>1.0</td>\n",
       "      <td>Low - Medium (1-2)</td>\n",
       "      <td>0.163265</td>\n",
       "      <td>2.477321</td>\n",
       "      <td>3.649648</td>\n",
       "      <td>3.0</td>\n",
       "      <td>High (3-4)</td>\n",
       "      <td>0.551020</td>\n",
       "    </tr>\n",
       "    <tr>\n",
       "      <th>2</th>\n",
       "      <td>111012-EGY.11_1-3365</td>\n",
       "      <td>5</td>\n",
       "      <td>111012</td>\n",
       "      <td>EGY.11_1</td>\n",
       "      <td>3365</td>\n",
       "      <td>(POLYGON ((31.88750000022489 29.85833333371637...</td>\n",
       "      <td>EGY</td>\n",
       "      <td>Egypt</td>\n",
       "      <td>Al Qahirah</td>\n",
       "      <td>258.364251</td>\n",
       "      <td>...</td>\n",
       "      <td>1.972883</td>\n",
       "      <td>2.410512</td>\n",
       "      <td>2.0</td>\n",
       "      <td>Medium - High (2-3)</td>\n",
       "      <td>0.326531</td>\n",
       "      <td>2.425817</td>\n",
       "      <td>3.560073</td>\n",
       "      <td>3.0</td>\n",
       "      <td>High (3-4)</td>\n",
       "      <td>0.877551</td>\n",
       "    </tr>\n",
       "    <tr>\n",
       "      <th>3</th>\n",
       "      <td>111012-EGY.15_1-None</td>\n",
       "      <td>7</td>\n",
       "      <td>111012</td>\n",
       "      <td>EGY.15_1</td>\n",
       "      <td>-9999</td>\n",
       "      <td>(POLYGON ((32.36609158210641 29.63378296420298...</td>\n",
       "      <td>EGY</td>\n",
       "      <td>Egypt</td>\n",
       "      <td>As Suways</td>\n",
       "      <td>1.748248</td>\n",
       "      <td>...</td>\n",
       "      <td>1.972883</td>\n",
       "      <td>2.410512</td>\n",
       "      <td>2.0</td>\n",
       "      <td>Medium - High (2-3)</td>\n",
       "      <td>0.326531</td>\n",
       "      <td>2.425817</td>\n",
       "      <td>3.560073</td>\n",
       "      <td>3.0</td>\n",
       "      <td>High (3-4)</td>\n",
       "      <td>0.877551</td>\n",
       "    </tr>\n",
       "    <tr>\n",
       "      <th>4</th>\n",
       "      <td>111012-EGY.8_1-3365</td>\n",
       "      <td>8</td>\n",
       "      <td>111012</td>\n",
       "      <td>EGY.8_1</td>\n",
       "      <td>3365</td>\n",
       "      <td>(POLYGON ((31.74570583035987 29.75178815260121...</td>\n",
       "      <td>EGY</td>\n",
       "      <td>Egypt</td>\n",
       "      <td>Al Jizah</td>\n",
       "      <td>510.535070</td>\n",
       "      <td>...</td>\n",
       "      <td>1.972883</td>\n",
       "      <td>2.410512</td>\n",
       "      <td>2.0</td>\n",
       "      <td>Medium - High (2-3)</td>\n",
       "      <td>0.326531</td>\n",
       "      <td>2.425817</td>\n",
       "      <td>3.560073</td>\n",
       "      <td>3.0</td>\n",
       "      <td>High (3-4)</td>\n",
       "      <td>0.877551</td>\n",
       "    </tr>\n",
       "  </tbody>\n",
       "</table>\n",
       "<p>5 rows × 261 columns</p>\n",
       "</div>"
      ],
      "text/plain": [
       "              string_id  aq30_id  pfaf_id     gid_1  aqid  \\\n",
       "0  111011-EGY.11_1-3365        0   111011  EGY.11_1  3365   \n",
       "1      111011-None-3365        3   111011     -9999  3365   \n",
       "2  111012-EGY.11_1-3365        5   111012  EGY.11_1  3365   \n",
       "3  111012-EGY.15_1-None        7   111012  EGY.15_1 -9999   \n",
       "4   111012-EGY.8_1-3365        8   111012   EGY.8_1  3365   \n",
       "\n",
       "                                            geometry gid_0 name_0      name_1  \\\n",
       "0  (POLYGON ((31.90590570688292 29.85788703615783...   EGY  Egypt  Al Qahirah   \n",
       "1  (POLYGON ((32.46194054146073 29.89250514754305...  None   None        None   \n",
       "2  (POLYGON ((31.88750000022489 29.85833333371637...   EGY  Egypt  Al Qahirah   \n",
       "3  (POLYGON ((32.36609158210641 29.63378296420298...   EGY  Egypt   As Suways   \n",
       "4  (POLYGON ((31.74570583035987 29.75178815260121...   EGY  Egypt    Al Jizah   \n",
       "\n",
       "     area_km2              ...                w_awr_tex_rrr_raw  \\\n",
       "0    4.223754              ...                         1.622678   \n",
       "1    0.742712              ...                         0.445356   \n",
       "2  258.364251              ...                         1.972883   \n",
       "3    1.748248              ...                         1.972883   \n",
       "4  510.535070              ...                         1.972883   \n",
       "\n",
       "   w_awr_tex_rrr_score  w_awr_tex_rrr_cat  w_awr_tex_rrr_label  \\\n",
       "0             2.165272                2.0  Medium - High (2-3)   \n",
       "1             1.133763                1.0   Low - Medium (1-2)   \n",
       "2             2.410512                2.0  Medium - High (2-3)   \n",
       "3             2.410512                2.0  Medium - High (2-3)   \n",
       "4             2.410512                2.0  Medium - High (2-3)   \n",
       "\n",
       "   w_awr_tex_rrr_weight_fraction  w_awr_tex_tot_raw  w_awr_tex_tot_score  \\\n",
       "0                       0.326531           2.457171             3.614603   \n",
       "1                       0.163265           2.477321             3.649648   \n",
       "2                       0.326531           2.425817             3.560073   \n",
       "3                       0.326531           2.425817             3.560073   \n",
       "4                       0.326531           2.425817             3.560073   \n",
       "\n",
       "  w_awr_tex_tot_cat  w_awr_tex_tot_label  w_awr_tex_tot_weight_fraction  \n",
       "0               3.0           High (3-4)                       0.877551  \n",
       "1               3.0           High (3-4)                       0.551020  \n",
       "2               3.0           High (3-4)                       0.877551  \n",
       "3               3.0           High (3-4)                       0.877551  \n",
       "4               3.0           High (3-4)                       0.877551  \n",
       "\n",
       "[5 rows x 261 columns]"
      ]
     },
     "execution_count": 26,
     "metadata": {},
     "output_type": "execute_result"
    }
   ],
   "source": [
    "gdf_annual.head()"
   ]
  },
  {
   "cell_type": "code",
   "execution_count": 27,
   "metadata": {
    "collapsed": true
   },
   "outputs": [],
   "source": [
    "gdf_annual.sort_values(by=\"aq30_id\",inplace=True)"
   ]
  },
  {
   "cell_type": "code",
   "execution_count": 28,
   "metadata": {
    "collapsed": true
   },
   "outputs": [],
   "source": [
    "gdf_annual.fillna(value=-9999,inplace=True)"
   ]
  },
  {
   "cell_type": "markdown",
   "metadata": {},
   "source": [
    "# Export"
   ]
  },
  {
   "cell_type": "code",
   "execution_count": 29,
   "metadata": {
    "collapsed": true
   },
   "outputs": [],
   "source": [
    "output_filename_annual = \"y2019m07d11_aqueduct30_annual_v01\""
   ]
  },
  {
   "cell_type": "code",
   "execution_count": 30,
   "metadata": {
    "collapsed": true
   },
   "outputs": [],
   "source": [
    "output_path_annual = \"{}/{}\".format(ec2_output_path,output_filename_annual)"
   ]
  },
  {
   "cell_type": "code",
   "execution_count": null,
   "metadata": {
    "collapsed": true
   },
   "outputs": [],
   "source": [
    "gdf_annual.to_file(driver=\"GPKG\",\n",
    "                   filename=output_path_annual + \".gpkg\",\n",
    "                   encoding=\"UTF-8\")"
   ]
  },
  {
   "cell_type": "code",
   "execution_count": null,
   "metadata": {
    "collapsed": true
   },
   "outputs": [],
   "source": [
    "# limited to 255 columns\n",
    "#gdf_annual.to_file(driver=\"ESRI Shapefile\",\n",
    "#                   filename=output_path_annual + \".shp\",\n",
    "#                   encoding=\"UTF-8\")"
   ]
  },
  {
   "cell_type": "code",
   "execution_count": null,
   "metadata": {
    "collapsed": true
   },
   "outputs": [],
   "source": [
    "df_annual = gdf_annual.drop(\"geometry\",axis=1)"
   ]
  },
  {
   "cell_type": "code",
   "execution_count": null,
   "metadata": {
    "collapsed": true
   },
   "outputs": [],
   "source": [
    "df_annual.to_csv(path_or_buf=output_path_annual+\".csv\",\n",
    "                 encoding=\"UTF-8\",\n",
    "                 index=False)"
   ]
  },
  {
   "cell_type": "code",
   "execution_count": null,
   "metadata": {},
   "outputs": [],
   "source": [
    "!aws s3 cp {ec2_output_path} {s3_output_path}  --recursive"
   ]
  },
  {
   "cell_type": "code",
   "execution_count": null,
   "metadata": {},
   "outputs": [],
   "source": [
    "end = datetime.datetime.now()\n",
    "elapsed = end - start\n",
    "print(elapsed)"
   ]
  },
  {
   "cell_type": "markdown",
   "metadata": {},
   "source": [
    "Previous runs:  \n",
    "0:17:26.009845\n",
    "\n"
   ]
  }
 ],
 "metadata": {
  "kernelspec": {
   "display_name": "Python 35",
   "language": "python",
   "name": "python35"
  },
  "language_info": {
   "codemirror_mode": {
    "name": "ipython",
    "version": 3
   },
   "file_extension": ".py",
   "mimetype": "text/x-python",
   "name": "python",
   "nbconvert_exporter": "python",
   "pygments_lexer": "ipython3",
   "version": "3.5.4"
  }
 },
 "nbformat": 4,
 "nbformat_minor": 2
}
