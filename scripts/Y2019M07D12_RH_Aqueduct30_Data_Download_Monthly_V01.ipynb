{
 "cells": [
  {
   "cell_type": "code",
   "execution_count": 1,
   "metadata": {},
   "outputs": [
    {
     "data": {
      "text/plain": [
       "'\\nProcess and export monthly data.\\n\\nWhen users want to download the entire dataset, this is what they will get. \\n\\nAuthor: Rutger Hofste\\nDate: 20190712\\nKernel: python35\\nDocker: rutgerhofste/gisdocker:ubuntu16.04\\n\\n'"
      ]
     },
     "execution_count": 1,
     "metadata": {},
     "output_type": "execute_result"
    }
   ],
   "source": [
    "\"\"\"\n",
    "Process and export monthly data.\n",
    "\n",
    "When users want to download the entire dataset, this is what they will get. \n",
    "\n",
    "Author: Rutger Hofste\n",
    "Date: 20190712\n",
    "Kernel: python35\n",
    "Docker: rutgerhofste/gisdocker:ubuntu16.04\n",
    "\n",
    "\"\"\"\n",
    "\n",
    "TESTING = 0\n",
    "\n",
    "SCRIPT_NAME = \"Y2019M07D11_RH_Aqueduct30_Data_Download_Annual_V01\"\n",
    "OUTPUT_VERSION = 2\n",
    "\n",
    "S3_INPUT_PATH = {}\n",
    "S3_INPUT_PATH[\"master_geom_simplified\"] = \"s3://wri-projects/Aqueduct30/processData/Y2019M07D09_RH_Simplified_Geometries_V01/output_V02\"\n",
    "S3_INPUT_PATH[\"annual\"] = \"s3://wri-projects/Aqueduct30/finalData/Y2019M01D14_RH_Aqueduct_Results_V01/output_V04/annual\"\n",
    "\n",
    "# We simplified the master_geom using verious keep_percentages. \n",
    "KEEP_PERCENT = 30\n",
    "\n",
    "INPUT_FILENAME = {}\n",
    "INPUT_FILENAME[\"master_geom_simplified\"] = \"mastergeom_mapshaper_visvalingam_keeppercent{:03.0f}_v01.shp\".format(KEEP_PERCENT)\n",
    "INPUT_FILENAME[\"annual\"] = \"annual_pivot.pkl\"\n",
    "\n",
    "ec2_input_path = \"/volumes/data/{}/input_V{:02.0f}\".format(SCRIPT_NAME,OUTPUT_VERSION)\n",
    "ec2_output_path = \"/volumes/data/{}/output_V{:02.0f}\".format(SCRIPT_NAME,OUTPUT_VERSION)\n",
    "\n",
    "s3_output_path = \"s3://wri-projects/Aqueduct30/processData/{}/output_V{:02.0f}/\".format(SCRIPT_NAME,OUTPUT_VERSION)\n",
    "\n",
    "print(s3_output_path)"
   ]
  },
  {
   "cell_type": "code",
   "execution_count": null,
   "metadata": {
    "collapsed": true
   },
   "outputs": [],
   "source": []
  }
 ],
 "metadata": {
  "kernelspec": {
   "display_name": "Python 35",
   "language": "python",
   "name": "python35"
  },
  "language_info": {
   "codemirror_mode": {
    "name": "ipython",
    "version": 3
   },
   "file_extension": ".py",
   "mimetype": "text/x-python",
   "name": "python",
   "nbconvert_exporter": "python",
   "pygments_lexer": "ipython3",
   "version": "3.5.4"
  }
 },
 "nbformat": 4,
 "nbformat_minor": 2
}
