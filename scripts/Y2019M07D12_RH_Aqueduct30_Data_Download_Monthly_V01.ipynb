{
 "cells": [
  {
   "cell_type": "code",
   "execution_count": 1,
   "metadata": {},
   "outputs": [
    {
     "name": "stdout",
     "output_type": "stream",
     "text": [
      "s3://wri-projects/Aqueduct30/processData/Y2019M07D12_RH_Aqueduct30_Data_Download_Monthly_V01/output_V02/\n"
     ]
    }
   ],
   "source": [
    "\"\"\"\n",
    "Process and export monthly data.\n",
    "\n",
    "\n",
    "\n",
    "Author: Rutger Hofste\n",
    "Date: 20190712\n",
    "Kernel: python35\n",
    "Docker: rutgerhofste/gisdocker:ubuntu16.04\n",
    "\n",
    "\"\"\"\n",
    "\n",
    "TESTING = 0\n",
    "\n",
    "SCRIPT_NAME = \"Y2019M07D12_RH_Aqueduct30_Data_Download_Monthly_V01\"\n",
    "OUTPUT_VERSION = 2\n",
    "\n",
    "S3_INPUT_PATH = {}\n",
    "S3_INPUT_PATH[\"hybas\"] = \"s3://wri-projects/Aqueduct30/processData/Y2017M08D02_RH_Merge_HydroBasins_V02/output_V04\"\n",
    "S3_INPUT_PATH[\"monthly\"] = \"s3://wri-projects/Aqueduct30/finalData/Y2019M01D14_RH_Aqueduct_Results_V01/output_V04/monthly\"\n",
    "\n",
    "\n",
    "INPUT_FILENAME = {}\n",
    "INPUT_FILENAME[\"hybas\"] = \"hybas_lev06_v1c_merged_fiona_V04.shp\"\n",
    "\n",
    "\n",
    "ec2_input_path = \"/volumes/data/{}/input_V{:02.0f}\".format(SCRIPT_NAME,OUTPUT_VERSION)\n",
    "ec2_output_path = \"/volumes/data/{}/output_V{:02.0f}\".format(SCRIPT_NAME,OUTPUT_VERSION)\n",
    "\n",
    "s3_output_path = \"s3://wri-projects/Aqueduct30/processData/{}/output_V{:02.0f}/\".format(SCRIPT_NAME,OUTPUT_VERSION)\n",
    "\n",
    "print(s3_output_path)"
   ]
  },
  {
   "cell_type": "code",
   "execution_count": 2,
   "metadata": {},
   "outputs": [
    {
     "name": "stdout",
     "output_type": "stream",
     "text": [
      "Y2019M07D18 UTC 13:01\n"
     ]
    }
   ],
   "source": [
    "import time, datetime, sys\n",
    "dateString = time.strftime(\"Y%YM%mD%d\")\n",
    "timeString = time.strftime(\"UTC %H:%M\")\n",
    "start = datetime.datetime.now()\n",
    "print(dateString,timeString)\n",
    "sys.version\n",
    "%matplotlib inline"
   ]
  },
  {
   "cell_type": "code",
   "execution_count": 3,
   "metadata": {},
   "outputs": [
    {
     "name": "stdout",
     "output_type": "stream",
     "text": [
      "rm: cannot remove '/volumes/data/Y2019M07D12_RH_Aqueduct30_Data_Download_Monthly_V01/input_V02': No such file or directory\n",
      "rm: cannot remove '/volumes/data/Y2019M07D12_RH_Aqueduct30_Data_Download_Monthly_V01/output_V02': No such file or directory\n"
     ]
    }
   ],
   "source": [
    "!rm -r {ec2_input_path} \n",
    "!rm -r {ec2_output_path} \n",
    "!mkdir -p {ec2_input_path} \n",
    "!mkdir -p {ec2_output_path} "
   ]
  },
  {
   "cell_type": "code",
   "execution_count": 4,
   "metadata": {
    "collapsed": true
   },
   "outputs": [],
   "source": [
    "!aws s3 cp {S3_INPUT_PATH[\"hybas\"]} {ec2_input_path} --recursive --quiet"
   ]
  },
  {
   "cell_type": "code",
   "execution_count": 5,
   "metadata": {},
   "outputs": [],
   "source": [
    "!aws s3 cp {S3_INPUT_PATH[\"monthly\"]} {ec2_input_path} --recursive --quiet"
   ]
  },
  {
   "cell_type": "code",
   "execution_count": 6,
   "metadata": {
    "collapsed": true
   },
   "outputs": [],
   "source": [
    "import pandas as pd\n",
    "import geopandas as gpd\n",
    "from tqdm import tqdm\n",
    "\n",
    "from shapely.geometry import MultiPolygon, shape"
   ]
  },
  {
   "cell_type": "code",
   "execution_count": 7,
   "metadata": {
    "collapsed": true
   },
   "outputs": [],
   "source": [
    "input_path_geom = \"{}/{}\".format(ec2_input_path,INPUT_FILENAME[\"hybas\"])"
   ]
  },
  {
   "cell_type": "code",
   "execution_count": 8,
   "metadata": {
    "collapsed": true
   },
   "outputs": [],
   "source": [
    "def convert_row_to_multipolygon(row):\n",
    "    if row.type == \"Polygon\":\n",
    "        new_geom = MultiPolygon([row.geometry])\n",
    "    elif row.type == \"MultiPolygon\":\n",
    "        new_geom = row.geometry\n",
    "    else:\n",
    "        new_geom = -9999\n",
    "    return new_geom\n",
    "    \n",
    "def df_force_multipolygon(gdf):\n",
    "    \"\"\"\n",
    "    Force all geometries in a geodataframe to be \n",
    "    MultiPolygons. The GeoPackage format does not allow\n",
    "    mixing of polygons and multipolygons.   \n",
    "    \n",
    "    Args:\n",
    "        gdf(GeoDataFrame) : GeoDataFrame\n",
    "    Returns:\n",
    "        gdf_mp(GeoDataFrame): GeodataFrame with multipolygons\n",
    "    \n",
    "    \"\"\"\n",
    "    gdf_temp = gdf.copy()\n",
    "    gdf_temp[\"type\"] = gdf_temp[\"geometry\"].geom_type\n",
    "    gdf[\"geometry\"] = gdf_temp.apply(axis=1,func=convert_row_to_multipolygon)\n",
    "    return gdf\n",
    "\n",
    "def process_df(df,indicator,month):\n",
    "    \"\"\"\n",
    "    Process monthly dataframe\n",
    "    \n",
    "    Args:\n",
    "        df(dataframe): input dataframe\n",
    "        indicator(string): short name for indicator. in bws bwd iav\n",
    "        month(integere): month \n",
    "    \n",
    "    Return:\n",
    "        df_out(dataframe) : output dataframe. simplified, clean, beatiful!\n",
    "    \n",
    "    \n",
    "    \"\"\"\n",
    "    df_out = df[[\"pfaf_id\",\"raw\",\"score\",\"cat\",\"label\"]]\n",
    "    df_out = df_out.rename(columns={\"raw\":\"{}_{:02.0f}_raw\".format(indicator,month),\n",
    "                                    \"score\":\"{}_{:02.0f}_score\".format(indicator,month),\n",
    "                                    \"cat\":\"{}_{:02.0f}_cat\".format(indicator,month),\n",
    "                                    \"label\":\"{}_{:02.0f}_label\".format(indicator,month)})\n",
    "    df_out.set_index(\"pfaf_id\",inplace=True)\n",
    "    \n",
    "    return df_out\n",
    "\n",
    "def process_gdf(gdf):\n",
    "    \"\"\"\n",
    "    Process the hydrobasin level6 geodataframe \n",
    "    \n",
    "    Dropping a weird polygon that crosses the -180 meridian and has a \n",
    "    non unique ID 353020\n",
    "    \n",
    "    Args:\n",
    "        gdf(geodataframe): hydrobasin level 6 geodataframe\n",
    "    Returns:\n",
    "        gdf_out(geodataframe): simple, clean beatiful\n",
    "    \n",
    "    \"\"\"\n",
    "    gdf_out = gdf.loc[gdf[\"PFAF_ID\"] != 353020]\n",
    "    \n",
    "    drop_columns = [\"HYBAS_ID\",\n",
    "                    \"NEXT_DOWN\",\n",
    "                    \"NEXT_SINK\",\n",
    "                    \"MAIN_BAS\",\n",
    "                    \"DIST_SINK\",\n",
    "                    \"DIST_MAIN\",\n",
    "                    \"SUB_AREA\",\n",
    "                    \"UP_AREA\",\n",
    "                    \"ENDO\",\n",
    "                    \"COAST\",\n",
    "                    \"ORDER\",\n",
    "                    \"SORT\"]\n",
    "    \n",
    "    \n",
    "    gdf_out = gdf_out.drop(drop_columns,axis=1)\n",
    "    gdf_out = gdf_out.rename(columns={\"PFAF_ID\":\"pfaf_id\"})\n",
    "    gdf_out = df_force_multipolygon(gdf_out)\n",
    "    return gdf_out\n",
    "    \n",
    "    "
   ]
  },
  {
   "cell_type": "code",
   "execution_count": 9,
   "metadata": {
    "collapsed": true
   },
   "outputs": [],
   "source": [
    "gdf_in = gpd.read_file(filename=input_path_geom)"
   ]
  },
  {
   "cell_type": "code",
   "execution_count": 10,
   "metadata": {},
   "outputs": [
    {
     "data": {
      "text/plain": [
       "(16397, 14)"
      ]
     },
     "execution_count": 10,
     "metadata": {},
     "output_type": "execute_result"
    }
   ],
   "source": [
    "gdf_in.shape"
   ]
  },
  {
   "cell_type": "code",
   "execution_count": 11,
   "metadata": {},
   "outputs": [],
   "source": [
    "gdf = process_gdf(gdf_in)"
   ]
  },
  {
   "cell_type": "code",
   "execution_count": 12,
   "metadata": {},
   "outputs": [
    {
     "data": {
      "text/html": [
       "<div>\n",
       "<style scoped>\n",
       "    .dataframe tbody tr th:only-of-type {\n",
       "        vertical-align: middle;\n",
       "    }\n",
       "\n",
       "    .dataframe tbody tr th {\n",
       "        vertical-align: top;\n",
       "    }\n",
       "\n",
       "    .dataframe thead th {\n",
       "        text-align: right;\n",
       "    }\n",
       "</style>\n",
       "<table border=\"1\" class=\"dataframe\">\n",
       "  <thead>\n",
       "    <tr style=\"text-align: right;\">\n",
       "      <th></th>\n",
       "      <th>pfaf_id</th>\n",
       "      <th>geometry</th>\n",
       "    </tr>\n",
       "  </thead>\n",
       "  <tbody>\n",
       "    <tr>\n",
       "      <th>0</th>\n",
       "      <td>811101</td>\n",
       "      <td>(POLYGON ((-137.9333333333333 58.9041666666666...</td>\n",
       "    </tr>\n",
       "    <tr>\n",
       "      <th>1</th>\n",
       "      <td>811102</td>\n",
       "      <td>(POLYGON ((-136.425 59.8416666666667, -136.428...</td>\n",
       "    </tr>\n",
       "    <tr>\n",
       "      <th>2</th>\n",
       "      <td>811103</td>\n",
       "      <td>(POLYGON ((-139.6430555555555 59.6625000000000...</td>\n",
       "    </tr>\n",
       "    <tr>\n",
       "      <th>3</th>\n",
       "      <td>811104</td>\n",
       "      <td>(POLYGON ((-139.6791666666666 60.7458333333333...</td>\n",
       "    </tr>\n",
       "    <tr>\n",
       "      <th>4</th>\n",
       "      <td>811105</td>\n",
       "      <td>(POLYGON ((-139.9791666666667 59.7791666666667...</td>\n",
       "    </tr>\n",
       "  </tbody>\n",
       "</table>\n",
       "</div>"
      ],
      "text/plain": [
       "   pfaf_id                                           geometry\n",
       "0   811101  (POLYGON ((-137.9333333333333 58.9041666666666...\n",
       "1   811102  (POLYGON ((-136.425 59.8416666666667, -136.428...\n",
       "2   811103  (POLYGON ((-139.6430555555555 59.6625000000000...\n",
       "3   811104  (POLYGON ((-139.6791666666666 60.7458333333333...\n",
       "4   811105  (POLYGON ((-139.9791666666667 59.7791666666667..."
      ]
     },
     "execution_count": 12,
     "metadata": {},
     "output_type": "execute_result"
    }
   ],
   "source": [
    "gdf.head()"
   ]
  },
  {
   "cell_type": "markdown",
   "metadata": {},
   "source": [
    "# Add monthly tabular data, pivot"
   ]
  },
  {
   "cell_type": "code",
   "execution_count": 13,
   "metadata": {
    "collapsed": true
   },
   "outputs": [],
   "source": [
    "indicators = [\"bws\",'bwd','iav']"
   ]
  },
  {
   "cell_type": "code",
   "execution_count": 14,
   "metadata": {
    "collapsed": true
   },
   "outputs": [],
   "source": [
    "months = range(1,12+1)"
   ]
  },
  {
   "cell_type": "code",
   "execution_count": 15,
   "metadata": {
    "collapsed": true
   },
   "outputs": [],
   "source": [
    "\n",
    "for indicator in indicators:\n",
    "    input_filename = \"monthly_{}.pkl\".format(indicator)\n",
    "    input_path = \"{}/{}\".format(ec2_input_path,input_filename)\n",
    "    df = pd.read_pickle(path=input_path)\n",
    "        \n",
    "    for month in months:\n",
    "        df_month = df.loc[df[\"month\"]==month]\n",
    "        df_month = process_df(df_month,indicator,month)\n",
    "\n",
    "        gdf = gdf.merge(right=df_month,\n",
    "                        how=\"left\",\n",
    "                        left_on=\"pfaf_id\",\n",
    "                        right_index=True)"
   ]
  },
  {
   "cell_type": "code",
   "execution_count": 16,
   "metadata": {
    "collapsed": true
   },
   "outputs": [],
   "source": [
    "output_filename= \"{}\".format(SCRIPT_NAME).lower()"
   ]
  },
  {
   "cell_type": "code",
   "execution_count": 17,
   "metadata": {},
   "outputs": [],
   "source": [
    "output_path = \"{}/{}\".format(ec2_output_path,output_filename)"
   ]
  },
  {
   "cell_type": "code",
   "execution_count": null,
   "metadata": {},
   "outputs": [],
   "source": [
    "gdf.to_file(driver=\"GPKG\",\n",
    "            filename=output_path + \".gpkg\",\n",
    "            encoding=\"UTF-8\")"
   ]
  },
  {
   "cell_type": "code",
   "execution_count": null,
   "metadata": {},
   "outputs": [],
   "source": [
    "!aws s3 cp {ec2_output_path} {s3_output_path}  --recursive"
   ]
  },
  {
   "cell_type": "code",
   "execution_count": null,
   "metadata": {},
   "outputs": [],
   "source": [
    "end = datetime.datetime.now()\n",
    "elapsed = end - start\n",
    "print(elapsed)"
   ]
  },
  {
   "cell_type": "markdown",
   "metadata": {},
   "source": [
    "Previous runs:  \n",
    "0:02:06.463591\n"
   ]
  },
  {
   "cell_type": "code",
   "execution_count": null,
   "metadata": {
    "collapsed": true
   },
   "outputs": [],
   "source": []
  }
 ],
 "metadata": {
  "kernelspec": {
   "display_name": "Python 35",
   "language": "python",
   "name": "python35"
  },
  "language_info": {
   "codemirror_mode": {
    "name": "ipython",
    "version": 3
   },
   "file_extension": ".py",
   "mimetype": "text/x-python",
   "name": "python",
   "nbconvert_exporter": "python",
   "pygments_lexer": "ipython3",
   "version": "3.5.4"
  }
 },
 "nbformat": 4,
 "nbformat_minor": 2
}
